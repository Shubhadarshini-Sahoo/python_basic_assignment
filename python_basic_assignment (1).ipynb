{
  "nbformat": 4,
  "nbformat_minor": 0,
  "metadata": {
    "colab": {
      "provenance": []
    },
    "kernelspec": {
      "name": "python3",
      "display_name": "Python 3"
    },
    "language_info": {
      "name": "python"
    }
  },
  "cells": [
    {
      "cell_type": "markdown",
      "source": [
        "#**Assignment**"
      ],
      "metadata": {
        "id": "OtpyTZWosg02"
      }
    },
    {
      "cell_type": "markdown",
      "source": [
        "**[1] What is Python, and why is it popular?**"
      ],
      "metadata": {
        "id": "0_tubhJGb-gI"
      }
    },
    {
      "cell_type": "markdown",
      "source": [
        "Python is a high-level, interpreted programming language and it is popular for it's ease of learning,versatility and it's huge library."
      ],
      "metadata": {
        "id": "7g154ZrHcApB"
      }
    },
    {
      "cell_type": "markdown",
      "source": [
        "**[2]What is an interpreter in Python?**"
      ],
      "metadata": {
        "id": "vy4OIElHCLd9"
      }
    },
    {
      "cell_type": "markdown",
      "source": [
        "In Python, an interpreter is a program that executes Python code directly, line by line, rather than compiling the entire code into machine code at once. It reads, analyzes, and then runs each instruction, allowing for immediate feedback and interactive development. This process differs from compilers, which translate the entire code upfront."
      ],
      "metadata": {
        "id": "jG7JQY0OcamS"
      }
    },
    {
      "cell_type": "markdown",
      "source": [
        "**[3]What are pre-defined keywords in Python ?**"
      ],
      "metadata": {
        "id": "MLoirIrfcc4J"
      }
    },
    {
      "cell_type": "markdown",
      "source": [
        "Pre-defined keywords in python are the fixed words that have some specific meaning and specific function in python language. They can't be written as identifiers like variable name, function name.If they are used in other purpose it will show error after running the code. Examples of some keywords are:false,true, class, break."
      ],
      "metadata": {
        "id": "kvHWejOJcdfd"
      }
    },
    {
      "cell_type": "markdown",
      "source": [
        "**[4]Can keywords be used as variable names ?**"
      ],
      "metadata": {
        "id": "JY98m2h3cxeu"
      }
    },
    {
      "cell_type": "markdown",
      "source": [
        "No, keywords can not be used as variable name because it has specific function in the language and it will show synax error if it will be used for other purposes. For example: the word \"class\" is a keyword. if it is used for a varible and then run, it will show error.\n"
      ],
      "metadata": {
        "id": "yCgIdhQ5NZyc"
      }
    },
    {
      "cell_type": "code",
      "source": [
        "study=\"pw skills\""
      ],
      "metadata": {
        "id": "1BQPdgS8OVdn"
      },
      "execution_count": null,
      "outputs": []
    },
    {
      "cell_type": "code",
      "source": [
        "study"
      ],
      "metadata": {
        "colab": {
          "base_uri": "https://localhost:8080/",
          "height": 36
        },
        "id": "zBlYTk6NOaKw",
        "outputId": "49cbe8d8-e953-4f6b-c37c-291949b2e6cc"
      },
      "execution_count": null,
      "outputs": [
        {
          "output_type": "execute_result",
          "data": {
            "text/plain": [
              "'pw skills'"
            ],
            "application/vnd.google.colaboratory.intrinsic+json": {
              "type": "string"
            }
          },
          "metadata": {},
          "execution_count": 31
        }
      ]
    },
    {
      "cell_type": "code",
      "source": [
        "class=\"pw\""
      ],
      "metadata": {
        "id": "Z_88UEWCOba9",
        "colab": {
          "base_uri": "https://localhost:8080/",
          "height": 106
        },
        "outputId": "13219f97-685c-4898-ae0c-8990879ea1b6"
      },
      "execution_count": null,
      "outputs": [
        {
          "output_type": "error",
          "ename": "SyntaxError",
          "evalue": "invalid syntax (ipython-input-3-651725869.py, line 1)",
          "traceback": [
            "\u001b[0;36m  File \u001b[0;32m\"/tmp/ipython-input-3-651725869.py\"\u001b[0;36m, line \u001b[0;32m1\u001b[0m\n\u001b[0;31m    class=\"pw\"\u001b[0m\n\u001b[0m         ^\u001b[0m\n\u001b[0;31mSyntaxError\u001b[0m\u001b[0;31m:\u001b[0m invalid syntax\n"
          ]
        }
      ]
    },
    {
      "cell_type": "markdown",
      "source": [
        "**[5]What is mutability in Python ?**\n"
      ],
      "metadata": {
        "id": "zYupIIx4VUDh"
      }
    },
    {
      "cell_type": "markdown",
      "source": [
        "The ability of an object to be changes in python is called mutability. For example:list- Elements can be changed or removed from a list."
      ],
      "metadata": {
        "id": "NxfWibU2uUEX"
      }
    },
    {
      "cell_type": "code",
      "source": [
        "list=[1,2,3,4]\n",
        "print(\"original list:\",list)\n",
        "#Add 99 instead of 1\n",
        "list[0]=99\n",
        "print(\"Modified list:\",list)\n"
      ],
      "metadata": {
        "colab": {
          "base_uri": "https://localhost:8080/"
        },
        "id": "geMZzPeHWXcI",
        "outputId": "1e66e8b2-637c-4d38-e611-61ea280d91f4"
      },
      "execution_count": null,
      "outputs": [
        {
          "output_type": "stream",
          "name": "stdout",
          "text": [
            "original list: [1, 2, 3, 4]\n",
            "Modified list: [99, 2, 3, 4]\n"
          ]
        }
      ]
    },
    {
      "cell_type": "markdown",
      "source": [
        "**[6]Why are lists mutable, but tuples are immutable?**"
      ],
      "metadata": {
        "id": "JNtgBaSKYWtH"
      }
    },
    {
      "cell_type": "markdown",
      "source": [
        "In Python, lists are mutable and tuples are immutable due to how they are designed and implemented internally, which is related to their intended use and performance considerations.\n",
        "\n",
        "Lists are designed to store collections of items that may change, such as user inputs, data sets, or temporary values in programs.\n",
        "\n",
        "Tuples are meant to be fixed collections of items, like coordinates, database records, or constant values."
      ],
      "metadata": {
        "id": "Z8_AkUFdulLp"
      }
    },
    {
      "cell_type": "code",
      "source": [
        "list=[1,2,3,4]\n",
        "print(\"original list:\",list)\n",
        "#Add 99 instead of 1\n",
        "list[0]=99\n",
        "print(\"Modified list:\",list)"
      ],
      "metadata": {
        "id": "BU7eP_2_Xxzf",
        "colab": {
          "base_uri": "https://localhost:8080/"
        },
        "outputId": "75fb658d-fc4e-4a23-b203-6bb41c950afb"
      },
      "execution_count": 8,
      "outputs": [
        {
          "output_type": "stream",
          "name": "stdout",
          "text": [
            "original list: [1, 2, 3, 4]\n",
            "Modified list: [99, 2, 3, 4]\n"
          ]
        }
      ]
    },
    {
      "cell_type": "code",
      "source": [
        "my_tuple = (1, 2, 3)\n",
        "my_tuple[0] = 10"
      ],
      "metadata": {
        "colab": {
          "base_uri": "https://localhost:8080/",
          "height": 158
        },
        "id": "8jkZHfV3qnAC",
        "outputId": "fc93ccd3-d466-41f7-c711-eaba5275429f"
      },
      "execution_count": 9,
      "outputs": [
        {
          "output_type": "error",
          "ename": "TypeError",
          "evalue": "'tuple' object does not support item assignment",
          "traceback": [
            "\u001b[0;31m---------------------------------------------------------------------------\u001b[0m",
            "\u001b[0;31mTypeError\u001b[0m                                 Traceback (most recent call last)",
            "\u001b[0;32m/tmp/ipython-input-9-590952433.py\u001b[0m in \u001b[0;36m<cell line: 0>\u001b[0;34m()\u001b[0m\n\u001b[1;32m      1\u001b[0m \u001b[0mmy_tuple\u001b[0m \u001b[0;34m=\u001b[0m \u001b[0;34m(\u001b[0m\u001b[0;36m1\u001b[0m\u001b[0;34m,\u001b[0m \u001b[0;36m2\u001b[0m\u001b[0;34m,\u001b[0m \u001b[0;36m3\u001b[0m\u001b[0;34m)\u001b[0m\u001b[0;34m\u001b[0m\u001b[0;34m\u001b[0m\u001b[0m\n\u001b[0;32m----> 2\u001b[0;31m \u001b[0mmy_tuple\u001b[0m\u001b[0;34m[\u001b[0m\u001b[0;36m0\u001b[0m\u001b[0;34m]\u001b[0m \u001b[0;34m=\u001b[0m \u001b[0;36m10\u001b[0m\u001b[0;34m\u001b[0m\u001b[0;34m\u001b[0m\u001b[0m\n\u001b[0m",
            "\u001b[0;31mTypeError\u001b[0m: 'tuple' object does not support item assignment"
          ]
        }
      ]
    },
    {
      "cell_type": "markdown",
      "source": [
        "**[7] What is the difference between “==” and “is” operators in Python ?**"
      ],
      "metadata": {
        "id": "pllagRe2cEUD"
      }
    },
    {
      "cell_type": "markdown",
      "source": [
        "The operator \"==\" checks if the two variables have same value.\n",
        "The \"is\" operator in Python is used to check if two variables refer to the same object in memory — that is, whether they have the same identity."
      ],
      "metadata": {
        "id": "c--zO7PSutpr"
      }
    },
    {
      "cell_type": "code",
      "source": [
        "a=1,2,3\n",
        "b=1,2,3\n",
        "a==b"
      ],
      "metadata": {
        "colab": {
          "base_uri": "https://localhost:8080/"
        },
        "id": "3o6f-tgkckno",
        "outputId": "3f95d79b-e5a1-44e1-da31-2308ebd34295"
      },
      "execution_count": null,
      "outputs": [
        {
          "output_type": "execute_result",
          "data": {
            "text/plain": [
              "True"
            ]
          },
          "metadata": {},
          "execution_count": 33
        }
      ]
    },
    {
      "cell_type": "code",
      "source": [
        "a is b"
      ],
      "metadata": {
        "colab": {
          "base_uri": "https://localhost:8080/"
        },
        "id": "TdJfE7f9cr5w",
        "outputId": "167c4a38-1572-4791-85d7-28d672c23418"
      },
      "execution_count": null,
      "outputs": [
        {
          "output_type": "execute_result",
          "data": {
            "text/plain": [
              "False"
            ]
          },
          "metadata": {},
          "execution_count": 34
        }
      ]
    },
    {
      "cell_type": "code",
      "source": [
        "a==b"
      ],
      "metadata": {
        "colab": {
          "base_uri": "https://localhost:8080/"
        },
        "id": "dcFVnfXycvpq",
        "outputId": "2a49a9be-6649-46ce-dba0-6b72443d0c21"
      },
      "execution_count": null,
      "outputs": [
        {
          "output_type": "execute_result",
          "data": {
            "text/plain": [
              "True"
            ]
          },
          "metadata": {},
          "execution_count": 36
        }
      ]
    },
    {
      "cell_type": "code",
      "source": [
        "x=\"world\"\n",
        "y=\"world\"\n",
        "x is y\n"
      ],
      "metadata": {
        "colab": {
          "base_uri": "https://localhost:8080/"
        },
        "id": "7EglGGlhc4MO",
        "outputId": "5cf98700-76d5-4cf7-982e-4dacbc12a478"
      },
      "execution_count": null,
      "outputs": [
        {
          "output_type": "execute_result",
          "data": {
            "text/plain": [
              "True"
            ]
          },
          "metadata": {},
          "execution_count": 40
        }
      ]
    },
    {
      "cell_type": "markdown",
      "source": [
        "**[8]What are logical operators in Python?**"
      ],
      "metadata": {
        "id": "cseHNcjIdhCH"
      }
    },
    {
      "cell_type": "markdown",
      "source": [
        "Logical operators in Python combine conditional statements so we can perform different operations based on given conditions. They are used to carry out logical operations and return Boolean values."
      ],
      "metadata": {
        "id": "kuK1RRpPu1Hq"
      }
    },
    {
      "cell_type": "code",
      "source": [
        "a= True\n",
        "b= False\n",
        "\n"
      ],
      "metadata": {
        "id": "VzyaNQcldS87"
      },
      "execution_count": null,
      "outputs": []
    },
    {
      "cell_type": "code",
      "source": [
        "a and b"
      ],
      "metadata": {
        "colab": {
          "base_uri": "https://localhost:8080/"
        },
        "id": "MtssSX9NevAa",
        "outputId": "0deae75c-9a81-4f0e-dc7a-7c94d2e5aca9"
      },
      "execution_count": null,
      "outputs": [
        {
          "output_type": "execute_result",
          "data": {
            "text/plain": [
              "False"
            ]
          },
          "metadata": {},
          "execution_count": 44
        }
      ]
    },
    {
      "cell_type": "code",
      "source": [
        "a or b"
      ],
      "metadata": {
        "colab": {
          "base_uri": "https://localhost:8080/"
        },
        "id": "Ykknfa0Aew1L",
        "outputId": "8ced0799-800c-4200-e3d2-5e203ee6987d"
      },
      "execution_count": null,
      "outputs": [
        {
          "output_type": "execute_result",
          "data": {
            "text/plain": [
              "True"
            ]
          },
          "metadata": {},
          "execution_count": 45
        }
      ]
    },
    {
      "cell_type": "markdown",
      "source": [
        "**[9] What is type casting in Python?**"
      ],
      "metadata": {
        "id": "QvU9SoNPejMa"
      }
    },
    {
      "cell_type": "markdown",
      "source": [
        "We can convert one type of variable to another type. This is called type casting."
      ],
      "metadata": {
        "id": "tMay36xJepjP"
      }
    },
    {
      "cell_type": "code",
      "source": [
        "x=3\n",
        "type(x)"
      ],
      "metadata": {
        "colab": {
          "base_uri": "https://localhost:8080/"
        },
        "id": "zKOq2L86fEGV",
        "outputId": "63445dc3-c708-403b-8388-282666532080"
      },
      "execution_count": null,
      "outputs": [
        {
          "output_type": "execute_result",
          "data": {
            "text/plain": [
              "int"
            ]
          },
          "metadata": {},
          "execution_count": 4
        }
      ]
    },
    {
      "cell_type": "code",
      "source": [
        "y=str(x)\n",
        "type(y)"
      ],
      "metadata": {
        "colab": {
          "base_uri": "https://localhost:8080/"
        },
        "id": "g53yBGq7fXDD",
        "outputId": "07030f98-f4ef-465e-ce21-bdf830cd8bd8"
      },
      "execution_count": null,
      "outputs": [
        {
          "output_type": "execute_result",
          "data": {
            "text/plain": [
              "str"
            ]
          },
          "metadata": {},
          "execution_count": 5
        }
      ]
    },
    {
      "cell_type": "markdown",
      "source": [
        "**[10] What is the difference between implicit and explicit type casting?**"
      ],
      "metadata": {
        "id": "3rEV4P-YfnZK"
      }
    },
    {
      "cell_type": "markdown",
      "source": [
        "Implicit type casting is done automatically by python.It converts a data type to another without loosing any data.\n"
      ],
      "metadata": {
        "id": "D7yz8DZdgg0y"
      }
    },
    {
      "cell_type": "code",
      "source": [
        "3.14+5"
      ],
      "metadata": {
        "id": "9vgQcL70hRuw",
        "colab": {
          "base_uri": "https://localhost:8080/"
        },
        "outputId": "b1e5b182-b871-4f4d-8ed4-a2948fe22cde"
      },
      "execution_count": 10,
      "outputs": [
        {
          "output_type": "execute_result",
          "data": {
            "text/plain": [
              "8.14"
            ]
          },
          "metadata": {},
          "execution_count": 10
        }
      ]
    },
    {
      "cell_type": "markdown",
      "source": [
        "Explicit type casting is manually done by programmer."
      ],
      "metadata": {
        "id": "F87VWDa7rPiC"
      }
    },
    {
      "cell_type": "code",
      "source": [
        "a=\"2\" #here 2 is a string.\n",
        "b=int(a) #the string is manually converted to integer.\n",
        "type(b)"
      ],
      "metadata": {
        "colab": {
          "base_uri": "https://localhost:8080/"
        },
        "id": "9gBr9yUirTwW",
        "outputId": "cfa5f764-b8e9-4126-f90b-7d0e0c019b37"
      },
      "execution_count": 13,
      "outputs": [
        {
          "output_type": "execute_result",
          "data": {
            "text/plain": [
              "int"
            ]
          },
          "metadata": {},
          "execution_count": 13
        }
      ]
    },
    {
      "cell_type": "markdown",
      "source": [
        "**[11]What is the purpose of conditional statements in Python?**"
      ],
      "metadata": {
        "id": "ARpNO0r4iQYT"
      }
    },
    {
      "cell_type": "markdown",
      "source": [
        "Conditional statements in Python are used to make decisions in a program based on certain conditions. They allow the program to execute different blocks of code depending on whether a condition is True or False."
      ],
      "metadata": {
        "id": "qtrYOcZdLFG1"
      }
    },
    {
      "cell_type": "code",
      "source": [
        "age = int(input(\"Enter your age: \"))\n",
        "\n",
        "if age >= 18:\n",
        "    print(\"You are eligible to vote.\")\n",
        "elif age > 0:\n",
        "    print(\"You are too young to vote.\")\n",
        "else:\n",
        "    print(\"Invalid age entered.\")"
      ],
      "metadata": {
        "colab": {
          "base_uri": "https://localhost:8080/"
        },
        "id": "0KP6U8UvLm-J",
        "outputId": "87891285-a758-4428-95d6-13fa454355e2"
      },
      "execution_count": null,
      "outputs": [
        {
          "output_type": "stream",
          "name": "stdout",
          "text": [
            "Enter your age: 27\n",
            "You are eligible to vote.\n"
          ]
        }
      ]
    },
    {
      "cell_type": "markdown",
      "source": [
        "**[12]How does the elif statement work?**\n"
      ],
      "metadata": {
        "id": "_iOIFhzBiUqb"
      }
    },
    {
      "cell_type": "markdown",
      "source": [
        "The elif statement in Python is used to check multiple conditions after an initial if condition. It allows you to test several expressions in sequence, and only the first True block will be executed."
      ],
      "metadata": {
        "id": "P-qKBkqIMcwF"
      }
    },
    {
      "cell_type": "code",
      "source": [
        "grade = 90\n",
        "if grade >=90:\n",
        "  print('A')\n",
        "elif grade >=80:\n",
        "  print('B')\n",
        "elif grade >=70:\n",
        "  print('C')\n",
        "else:\n",
        "  print('D')"
      ],
      "metadata": {
        "id": "H1i1D2UOJTaO",
        "colab": {
          "base_uri": "https://localhost:8080/"
        },
        "outputId": "b62b9da0-5b9d-497d-f496-4b016cebe9fb"
      },
      "execution_count": 7,
      "outputs": [
        {
          "output_type": "stream",
          "name": "stdout",
          "text": [
            "A\n"
          ]
        }
      ]
    },
    {
      "cell_type": "markdown",
      "source": [
        "**[13] What is the difference between for and while loops?**\n"
      ],
      "metadata": {
        "id": "H5E2va7iisNs"
      }
    },
    {
      "cell_type": "markdown",
      "source": [
        "For loop is a control flow statement used to repat a block of code for each item in a sequence.It helps automate repetitive task, like processing items one by one, printtings lists or performing calculations"
      ],
      "metadata": {
        "id": "SaGrYvX3jWcr"
      }
    },
    {
      "cell_type": "code",
      "source": [
        "a=\"hello\"\n",
        "\n",
        "for i in a:\n",
        "  print(i)"
      ],
      "metadata": {
        "colab": {
          "base_uri": "https://localhost:8080/"
        },
        "id": "8GQ0qNwCjg6Z",
        "outputId": "11a35e35-9a95-44a1-d8d4-e027d8d3a7bd"
      },
      "execution_count": 3,
      "outputs": [
        {
          "output_type": "stream",
          "name": "stdout",
          "text": [
            "h\n",
            "e\n",
            "l\n",
            "l\n",
            "o\n"
          ]
        }
      ]
    },
    {
      "cell_type": "markdown",
      "source": [
        "while loop statment repeatedly executes a code block while a particular condition is true."
      ],
      "metadata": {
        "id": "B0933A9PitRl"
      }
    },
    {
      "cell_type": "code",
      "source": [
        "i = 10\n",
        "while i>=1:\n",
        "  print(i)\n",
        "  i-=1"
      ],
      "metadata": {
        "colab": {
          "base_uri": "https://localhost:8080/"
        },
        "id": "qct31_1IivI1",
        "outputId": "e6aa48b8-883c-494f-a5f3-8669fcdba6a8"
      },
      "execution_count": 4,
      "outputs": [
        {
          "output_type": "stream",
          "name": "stdout",
          "text": [
            "10\n",
            "9\n",
            "8\n",
            "7\n",
            "6\n",
            "5\n",
            "4\n",
            "3\n",
            "2\n",
            "1\n"
          ]
        }
      ]
    },
    {
      "cell_type": "markdown",
      "source": [
        "**[14] Describe a scenario where a while loop is more suitable than a for loop.?**"
      ],
      "metadata": {
        "id": "rUL_poAkiysK"
      }
    },
    {
      "cell_type": "markdown",
      "source": [
        "you’re creating a login system that keeps asking the user for the correct password until they enter it correctly.\n",
        "\n",
        "You don't know how many times the user might fail, so you can’t use a for loop with a fixed range — a while loop is the best choice here."
      ],
      "metadata": {
        "id": "M_4A6L4Ipn1F"
      }
    },
    {
      "cell_type": "code",
      "source": [
        "correct_password = \"shubha@8908\"\n",
        "user_input = \"\"\n",
        "\n",
        "while user_input != correct_password:\n",
        "    user_input = input(\"Enter your password: \")\n",
        "\n",
        "print(\"Access granted!\")"
      ],
      "metadata": {
        "colab": {
          "base_uri": "https://localhost:8080/"
        },
        "id": "YqzFBihcn1Sd",
        "outputId": "022ddbc3-3b11-45cd-ed67-253b251a1a77"
      },
      "execution_count": 6,
      "outputs": [
        {
          "output_type": "stream",
          "name": "stdout",
          "text": [
            "Enter your password: shubha\n",
            "Enter your password: shubha@8908\n",
            "Access granted!\n"
          ]
        }
      ]
    },
    {
      "cell_type": "markdown",
      "source": [
        "**1.Write a Python program to print \"Hello, World!**"
      ],
      "metadata": {
        "id": "Ci4ChaQzgB2Y"
      }
    },
    {
      "cell_type": "code",
      "execution_count": null,
      "metadata": {
        "colab": {
          "base_uri": "https://localhost:8080/"
        },
        "id": "u4somVHhCcFA",
        "outputId": "5b0bffed-ac5d-436d-e1b9-d031dcf73c78"
      },
      "outputs": [
        {
          "output_type": "stream",
          "name": "stdout",
          "text": [
            "Hello, world!\n"
          ]
        }
      ],
      "source": [
        "print(\"Hello, world!\")"
      ]
    },
    {
      "cell_type": "markdown",
      "source": [
        "**2.Write a Python program that displays your name and age.**"
      ],
      "metadata": {
        "id": "ZavhfUWzDkS-"
      }
    },
    {
      "cell_type": "code",
      "source": [
        "name=\"Shubhadarshini Sahoo\"\n",
        "age=27\n",
        "print(f\"Name :{name}\")\n",
        "print(f\"Age  :{age}\")"
      ],
      "metadata": {
        "colab": {
          "base_uri": "https://localhost:8080/"
        },
        "id": "9TZifGrBDFC2",
        "outputId": "a425ab59-2cce-4207-dd23-0f8caac79e53"
      },
      "execution_count": null,
      "outputs": [
        {
          "output_type": "stream",
          "name": "stdout",
          "text": [
            "Name :Shubhadarshini Sahoo\n",
            "Age  :27\n"
          ]
        }
      ]
    },
    {
      "cell_type": "markdown",
      "source": [
        "**3.Write code to print all the pre-defined keywords in Python using the keyword library.**"
      ],
      "metadata": {
        "id": "mEbt0vfREQ1Z"
      }
    },
    {
      "cell_type": "code",
      "source": [
        "print(\"pre-defined key words in python:\")\n",
        "help(\"keywords\")"
      ],
      "metadata": {
        "colab": {
          "base_uri": "https://localhost:8080/"
        },
        "id": "Zp_LcL9kEFxO",
        "outputId": "918ab321-82bf-4969-9947-84b66cc2b413"
      },
      "execution_count": null,
      "outputs": [
        {
          "output_type": "stream",
          "name": "stdout",
          "text": [
            "pre-defined key words in python:\n",
            "\n",
            "Here is a list of the Python keywords.  Enter any keyword to get more help.\n",
            "\n",
            "False               class               from                or\n",
            "None                continue            global              pass\n",
            "True                def                 if                  raise\n",
            "and                 del                 import              return\n",
            "as                  elif                in                  try\n",
            "assert              else                is                  while\n",
            "async               except              lambda              with\n",
            "await               finally             nonlocal            yield\n",
            "break               for                 not                 \n",
            "\n"
          ]
        }
      ]
    },
    {
      "cell_type": "markdown",
      "source": [
        "**4. Write a program that checks if a given word is a Python keyword.**"
      ],
      "metadata": {
        "id": "DbxSRiYvGIYt"
      }
    },
    {
      "cell_type": "code",
      "source": [
        "#to check whether the given word is python key word or not\n",
        "import keyword\n",
        "\n",
        "word = input(\"Enter a word: \")\n",
        "\n",
        "# Check if the word is a Python keyword\n",
        "if keyword.iskeyword(word):\n",
        "    print(f\"'{word}' is a Python keyword.\")\n",
        "else:\n",
        "    print(f\"'{word}' is NOT a Python keyword.\")\n",
        "\n",
        "import keyword\n",
        "word=input(\"enter a word\")\n",
        "#To check if the keyword is a python keyword\n",
        "if keyword.iskeyword(word):\n",
        "  print(f\"'{word}' is a python keyword\")\n",
        "else:\n",
        "  print(f\"'{word}' is not a python keyword\")\n",
        "\n"
      ],
      "metadata": {
        "colab": {
          "base_uri": "https://localhost:8080/"
        },
        "id": "hwWn_5kUAker",
        "outputId": "a888e7f7-8e44-4d95-e95c-0c3b225f914d"
      },
      "execution_count": null,
      "outputs": [
        {
          "output_type": "stream",
          "name": "stdout",
          "text": [
            "Enter a word: class\n",
            "'class' is a Python keyword.\n",
            "enter a word run\n",
            "' run' is not a python keyword\n"
          ]
        }
      ]
    },
    {
      "cell_type": "markdown",
      "source": [
        "**5.Create a list and tuple in Python, and demonstrate how attempting to change an element works differently for each.**\n"
      ],
      "metadata": {
        "id": "CYF5wEoCD-k1"
      }
    },
    {
      "cell_type": "code",
      "source": [
        "list=[1,2,3,4]\n",
        "#Modify an element in list\n",
        "print(\"Original list:\",list)\n",
        "list[1]=0\n",
        "print(\"modified list:\",list)\n",
        "\n"
      ],
      "metadata": {
        "colab": {
          "base_uri": "https://localhost:8080/"
        },
        "id": "eRSNFFyNC-t0",
        "outputId": "bdc293ad-9f50-4b03-cd8d-e3ca170c9f18"
      },
      "execution_count": null,
      "outputs": [
        {
          "output_type": "stream",
          "name": "stdout",
          "text": [
            "Original list: [1, 2, 3, 4]\n",
            "modified list: [1, 0, 3, 4]\n"
          ]
        }
      ]
    },
    {
      "cell_type": "code",
      "source": [
        "tuple=(1,2,3,4)\n",
        "#Modify an element in tuple\n",
        "print(\"original tuple:\",tuple)\n",
        "tuple[1]=0\n",
        "print(\"modified tuple:\",tuple)\n"
      ],
      "metadata": {
        "colab": {
          "base_uri": "https://localhost:8080/",
          "height": 211
        },
        "id": "Vf8_oOW_GARa",
        "outputId": "6991fbff-b228-4669-e56f-7c32c155ee22"
      },
      "execution_count": null,
      "outputs": [
        {
          "output_type": "stream",
          "name": "stdout",
          "text": [
            "original tuple: (1, 2, 3, 4)\n"
          ]
        },
        {
          "output_type": "error",
          "ename": "TypeError",
          "evalue": "'tuple' object does not support item assignment",
          "traceback": [
            "\u001b[0;31m---------------------------------------------------------------------------\u001b[0m",
            "\u001b[0;31mTypeError\u001b[0m                                 Traceback (most recent call last)",
            "\u001b[0;32m/tmp/ipython-input-28-1456202828.py\u001b[0m in \u001b[0;36m<cell line: 0>\u001b[0;34m()\u001b[0m\n\u001b[1;32m      2\u001b[0m \u001b[0;31m#Modify an element in tuple\u001b[0m\u001b[0;34m\u001b[0m\u001b[0;34m\u001b[0m\u001b[0m\n\u001b[1;32m      3\u001b[0m \u001b[0mprint\u001b[0m\u001b[0;34m(\u001b[0m\u001b[0;34m\"original tuple:\"\u001b[0m\u001b[0;34m,\u001b[0m\u001b[0mtuple\u001b[0m\u001b[0;34m)\u001b[0m\u001b[0;34m\u001b[0m\u001b[0;34m\u001b[0m\u001b[0m\n\u001b[0;32m----> 4\u001b[0;31m \u001b[0mtuple\u001b[0m\u001b[0;34m[\u001b[0m\u001b[0;36m1\u001b[0m\u001b[0;34m]\u001b[0m\u001b[0;34m=\u001b[0m\u001b[0;36m0\u001b[0m\u001b[0;34m\u001b[0m\u001b[0;34m\u001b[0m\u001b[0m\n\u001b[0m\u001b[1;32m      5\u001b[0m \u001b[0mprint\u001b[0m\u001b[0;34m(\u001b[0m\u001b[0;34m\"modified tuple:\"\u001b[0m\u001b[0;34m,\u001b[0m\u001b[0mtuple\u001b[0m\u001b[0;34m)\u001b[0m\u001b[0;34m\u001b[0m\u001b[0;34m\u001b[0m\u001b[0m\n",
            "\u001b[0;31mTypeError\u001b[0m: 'tuple' object does not support item assignment"
          ]
        }
      ]
    },
    {
      "cell_type": "markdown",
      "source": [
        "**6. Write a function to demonstrate the behavior of mutable and immutable arguments.**"
      ],
      "metadata": {
        "id": "DqFiS9x9gfwE"
      }
    },
    {
      "cell_type": "code",
      "source": [
        "#mutable\n",
        "#list,dict,set - these are mutable objects.\n",
        "a=[1,2,3,\"shubha\",\"fruits\",\"pw\"]\n",
        "print(\"original list\",a)\n",
        "a[0]=99\n",
        "print(\"modified list:\",a)"
      ],
      "metadata": {
        "id": "BSmO7WWuGRuI",
        "colab": {
          "base_uri": "https://localhost:8080/"
        },
        "outputId": "32567fef-d8c8-4200-9941-75a6f9fdcec2"
      },
      "execution_count": null,
      "outputs": [
        {
          "output_type": "stream",
          "name": "stdout",
          "text": [
            "original list [1, 2, 3, 'shubha', 'fruits', 'pw']\n",
            "modified list: [99, 2, 3, 'shubha', 'fruits', 'pw']\n"
          ]
        }
      ]
    },
    {
      "cell_type": "code",
      "source": [
        "#Immutable\n",
        "#string.tuple- these are immutable onjects.\n",
        "a=\"pwskills\"\n",
        "a[0]=\"u\"\n"
      ],
      "metadata": {
        "colab": {
          "base_uri": "https://localhost:8080/",
          "height": 176
        },
        "id": "j0Pt6w_AZCFz",
        "outputId": "3362df17-4559-4a3d-b584-dd8e98a85a4a"
      },
      "execution_count": null,
      "outputs": [
        {
          "output_type": "error",
          "ename": "TypeError",
          "evalue": "'str' object does not support item assignment",
          "traceback": [
            "\u001b[0;31m---------------------------------------------------------------------------\u001b[0m",
            "\u001b[0;31mTypeError\u001b[0m                                 Traceback (most recent call last)",
            "\u001b[0;32m/tmp/ipython-input-5-804483029.py\u001b[0m in \u001b[0;36m<cell line: 0>\u001b[0;34m()\u001b[0m\n\u001b[1;32m      1\u001b[0m \u001b[0;31m#Immutable\u001b[0m\u001b[0;34m\u001b[0m\u001b[0;34m\u001b[0m\u001b[0m\n\u001b[1;32m      2\u001b[0m \u001b[0ma\u001b[0m\u001b[0;34m=\u001b[0m\u001b[0;34m\"pwskills\"\u001b[0m\u001b[0;34m\u001b[0m\u001b[0;34m\u001b[0m\u001b[0m\n\u001b[0;32m----> 3\u001b[0;31m \u001b[0ma\u001b[0m\u001b[0;34m[\u001b[0m\u001b[0;36m0\u001b[0m\u001b[0;34m]\u001b[0m\u001b[0;34m=\u001b[0m\u001b[0;34m\"u\"\u001b[0m\u001b[0;34m\u001b[0m\u001b[0;34m\u001b[0m\u001b[0m\n\u001b[0m",
            "\u001b[0;31mTypeError\u001b[0m: 'str' object does not support item assignment"
          ]
        }
      ]
    },
    {
      "cell_type": "markdown",
      "source": [
        "**7.Write a program that performs basic arithmetic operations on two user-input numbers.**"
      ],
      "metadata": {
        "id": "72ecLGnuhbsV"
      }
    },
    {
      "cell_type": "code",
      "source": [
        "num1=int(input(\"Enter number 1=\"))\n",
        "num2=int(input(\"Enter number 2=\"))\n",
        "Addition=num1+num2\n",
        "print(\"The addtion value of {} and {} is {}\".format(num1,num2,Addition))\n",
        "Sub=num1-num2\n",
        "print(\"The substraction value of {} and {} is {}\".format(num1,num2,Sub))\n",
        "mul=num1*num2\n",
        "print(\"The multiplication value of {} and {} is {}\".format(num1,num2,mul))\n",
        "division=num1/num2\n",
        "print(\"The division value of {} and {} is {}\".format(num1,num2,division))"
      ],
      "metadata": {
        "id": "D3TxMLnfF9j-",
        "colab": {
          "base_uri": "https://localhost:8080/"
        },
        "outputId": "805bff72-4d90-4321-cab4-9a2f9a6b260b"
      },
      "execution_count": null,
      "outputs": [
        {
          "output_type": "stream",
          "name": "stdout",
          "text": [
            "Enter number 1=90\n",
            "Enter number 2=30\n",
            "The addtion value of 90 and 30 is 120\n",
            "The substraction value of 90 and 30 is 60\n",
            "The multiplication value of 90 and 30 is 2700\n",
            "The division value of 90 and 30 is 3.0\n"
          ]
        }
      ]
    },
    {
      "cell_type": "markdown",
      "source": [
        "**8.Write a program to demonstrate the use of logical operators.**"
      ],
      "metadata": {
        "id": "0IlwTJ8ukPjR"
      }
    },
    {
      "cell_type": "code",
      "source": [
        "x=10\n",
        "y=20\n",
        "print(x==10 and x<=y)"
      ],
      "metadata": {
        "colab": {
          "base_uri": "https://localhost:8080/"
        },
        "id": "y6YyYohzkJNb",
        "outputId": "119c48f3-937d-4db7-951e-bb72a2f64dd9"
      },
      "execution_count": null,
      "outputs": [
        {
          "output_type": "stream",
          "name": "stdout",
          "text": [
            "True\n"
          ]
        }
      ]
    },
    {
      "cell_type": "code",
      "source": [
        "print(x==10 and x>y)"
      ],
      "metadata": {
        "colab": {
          "base_uri": "https://localhost:8080/"
        },
        "id": "9eZwKrmUnWjT",
        "outputId": "c1562a66-f338-45b6-cacc-2ebaedca1481"
      },
      "execution_count": null,
      "outputs": [
        {
          "output_type": "stream",
          "name": "stdout",
          "text": [
            "False\n"
          ]
        }
      ]
    },
    {
      "cell_type": "code",
      "source": [
        "print(x!=10)"
      ],
      "metadata": {
        "colab": {
          "base_uri": "https://localhost:8080/"
        },
        "id": "wSMV5w-Gng6J",
        "outputId": "47964de8-45a2-4274-e0eb-c4adc9e4e6e7"
      },
      "execution_count": null,
      "outputs": [
        {
          "output_type": "stream",
          "name": "stdout",
          "text": [
            "False\n"
          ]
        }
      ]
    },
    {
      "cell_type": "markdown",
      "source": [
        "**9.Write a Python program to convert user input from string to integer, float, and boolean types.**"
      ],
      "metadata": {
        "id": "2u7ySVidas-g"
      }
    },
    {
      "cell_type": "code",
      "source": [
        "user_input = input(\"Enter a value: \")\n",
        "\n",
        "# Convert to integer\n",
        "try:\n",
        "    int_value = int(user_input)\n",
        "    print(\"Integer:\", int_value)\n",
        "except ValueError:\n",
        "    print(\"Cannot convert to integer.\")\n",
        "\n",
        "# Convert to float\n",
        "try:\n",
        "    float_value = float(user_input)\n",
        "    print(\"Float:\", float_value)\n",
        "except ValueError:\n",
        "    print(\"Cannot convert to float.\")\n"
      ],
      "metadata": {
        "id": "lHQE62gtbQO0",
        "colab": {
          "base_uri": "https://localhost:8080/"
        },
        "outputId": "eedd8500-91b2-4965-d727-150fd4afd2a1"
      },
      "execution_count": null,
      "outputs": [
        {
          "output_type": "stream",
          "name": "stdout",
          "text": [
            "Enter a value: 30\n",
            "Integer: 30\n",
            "Float: 30.0\n"
          ]
        }
      ]
    },
    {
      "cell_type": "code",
      "source": [],
      "metadata": {
        "id": "zpMopCu2b4rg"
      },
      "execution_count": null,
      "outputs": []
    },
    {
      "cell_type": "markdown",
      "source": [
        "**10.Write code to demonstrate type casting with list elements.**"
      ],
      "metadata": {
        "id": "GfJRJFApb1bl"
      }
    },
    {
      "cell_type": "code",
      "source": [
        "list = ['50', '60', '70', '80', 'True']\n",
        "int_list = [int(x) for x in list[:3]]\n",
        "float_list = [float(x) for x in list[:4]]\n",
        "bool_list = [bool(x) for x in list]\n",
        "\n",
        "print(\"Original String List:\", list)\n",
        "print(\"Integers (Explicit Casting):\", int_list)\n",
        "print(\"Floats (Explicit Casting):\", float_list)\n",
        "print(\"Booleans (Explicit Casting):\", bool_list)\n",
        "\n",
        "a = 10\n",
        "b = 3.5\n",
        "result = a + b\n",
        "print(f\"{a} + {b} = {result} (type: {type(result)})\")"
      ],
      "metadata": {
        "id": "4WTK1IY0b6ca",
        "colab": {
          "base_uri": "https://localhost:8080/"
        },
        "outputId": "b54cca2e-f209-4952-9989-4d37cfb94a62"
      },
      "execution_count": null,
      "outputs": [
        {
          "output_type": "stream",
          "name": "stdout",
          "text": [
            "Original String List: ['50', '60', '70', '80', 'True']\n",
            "Integers (Explicit Casting): [50, 60, 70]\n",
            "Floats (Explicit Casting): [50.0, 60.0, 70.0, 80.0]\n",
            "Booleans (Explicit Casting): [True, True, True, True, True]\n",
            "10 + 3.5 = 13.5 (type: <class 'float'>)\n"
          ]
        }
      ]
    },
    {
      "cell_type": "markdown",
      "source": [
        "**11.Write a program that checks if a number is positive, negative, or zero.**"
      ],
      "metadata": {
        "id": "-9xU6ix9oNcB"
      }
    },
    {
      "cell_type": "code",
      "source": [
        "num = float(input(\"Enter a number: \"))\n",
        "\n",
        "# Check if the number is positive, negative, or zero\n",
        "if num > 0:\n",
        "    print(\"The number is positive.\")\n",
        "elif num < 0:\n",
        "    print(\"The number is negative.\")\n",
        "else:\n",
        "    print(\"The number is zero.\")"
      ],
      "metadata": {
        "colab": {
          "base_uri": "https://localhost:8080/"
        },
        "id": "hYmNwBjYnwS7",
        "outputId": "003affee-e23a-4597-fb43-dab692b8a6f8"
      },
      "execution_count": null,
      "outputs": [
        {
          "output_type": "stream",
          "name": "stdout",
          "text": [
            "Enter a number: 90\n",
            "The number is positive.\n"
          ]
        }
      ]
    },
    {
      "cell_type": "markdown",
      "source": [
        "**12. Write a for loop to print numbers from 1 to 10.**"
      ],
      "metadata": {
        "id": "MgjTJX52pexg"
      }
    },
    {
      "cell_type": "code",
      "source": [
        "for i in range(1, 11):\n",
        "    print(i)"
      ],
      "metadata": {
        "id": "OC5-zqv3c3I-",
        "colab": {
          "base_uri": "https://localhost:8080/"
        },
        "outputId": "8b7c8737-9e80-47bf-a692-7cb49fc5f74a"
      },
      "execution_count": null,
      "outputs": [
        {
          "output_type": "stream",
          "name": "stdout",
          "text": [
            "1\n",
            "2\n",
            "3\n",
            "4\n",
            "5\n",
            "6\n",
            "7\n",
            "8\n",
            "9\n",
            "10\n"
          ]
        }
      ]
    },
    {
      "cell_type": "markdown",
      "source": [
        "**13.Write a Python program to find the sum of all even numbers between 1 and 50.**"
      ],
      "metadata": {
        "id": "N0rEvqizc9YR"
      }
    },
    {
      "cell_type": "code",
      "source": [
        "sum = 0\n",
        "number = 2\n",
        "while number <= 50:\n",
        "    sum += number\n",
        "    number += 2\n",
        "print(\"Sum of all even numbers between 1 and 50 is:\", sum)\n"
      ],
      "metadata": {
        "id": "oiniTFIlbMMR",
        "colab": {
          "base_uri": "https://localhost:8080/"
        },
        "outputId": "cc02171f-6168-4494-9d2e-5d31d755a641"
      },
      "execution_count": null,
      "outputs": [
        {
          "output_type": "stream",
          "name": "stdout",
          "text": [
            "Sum of all even numbers between 1 and 50 is: 650\n"
          ]
        }
      ]
    },
    {
      "cell_type": "markdown",
      "source": [
        "**[14]Write a program to reverse a string using a while loop.**"
      ],
      "metadata": {
        "id": "xMOU4Wz1C4ww"
      }
    },
    {
      "cell_type": "code",
      "source": [
        "original_string = input(\"Enter a string: \")\n",
        "reversed_string = \"\"\n",
        "index = len(original_string) - 1\n",
        "while index >= 0:\n",
        "    reversed_string += original_string[index]\n",
        "    index -= 1\n",
        "\n",
        "# Display the reversed string\n",
        "print(\"Reversed string:\", reversed_string)"
      ],
      "metadata": {
        "colab": {
          "base_uri": "https://localhost:8080/"
        },
        "id": "PIvmOo_yFU_p",
        "outputId": "7ce1c943-7417-487f-a974-7af908feb43f"
      },
      "execution_count": null,
      "outputs": [
        {
          "output_type": "stream",
          "name": "stdout",
          "text": [
            "Enter a string: shubha\n",
            "Reversed string: ahbuhs\n"
          ]
        }
      ]
    },
    {
      "cell_type": "markdown",
      "source": [
        "**15.Write a Python program to calculate the factorial of a number provided by the user using a while loop.**"
      ],
      "metadata": {
        "id": "nbATMxSybmoQ"
      }
    },
    {
      "cell_type": "code",
      "source": [
        "num = int(input(\"Enter a  integer: \"))\n",
        "factorial = 1\n",
        "i = 1\n",
        "while i <= num:\n",
        "    factorial *= i\n",
        "    i += 1\n",
        "print(f\"Factorial of {num} is: {factorial}\")"
      ],
      "metadata": {
        "id": "t6Fkk3bmeTfO",
        "colab": {
          "base_uri": "https://localhost:8080/"
        },
        "outputId": "a23e126e-daa0-4d1c-a738-e55ed364b5db"
      },
      "execution_count": null,
      "outputs": [
        {
          "output_type": "stream",
          "name": "stdout",
          "text": [
            "Enter a  integer: 10\n",
            "Factorial of 10 is: 3628800\n"
          ]
        }
      ]
    }
  ]
}